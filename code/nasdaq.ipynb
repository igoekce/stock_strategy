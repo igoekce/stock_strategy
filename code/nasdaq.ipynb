{
 "cells": [
  {
   "cell_type": "code",
   "execution_count": 30,
   "outputs": [],
   "source": [
    "import pandas as pd\n",
    "import yfinance as yf\n",
    "import matplotlib as plt"
   ],
   "metadata": {
    "collapsed": false
   }
  },
  {
   "cell_type": "code",
   "execution_count": 7,
   "outputs": [
    {
     "name": "stdout",
     "output_type": "stream",
     "text": [
      "[*********************100%***********************]  102 of 102 completed\n"
     ]
    }
   ],
   "source": [
    "stocklist = ['AAPL', 'MSFT', 'AMZN', 'GOOG', 'GOOGL', 'TSLA', 'NVDA', 'PEP', 'COST', 'META', 'AVGO', 'CSCO', 'TMUS', 'TXN',  'CMCSA', 'ADBE',  'AMGN', 'HON', 'QCOM', 'NFLX', 'AMD', 'INTC', 'SBUX',  'INTU',  'ADP', 'GILD', 'ISRG', 'PYPL', 'MDLZ', 'AMAT', 'ADI',  'VRTX', 'REGN', 'BKNG', 'MRNA', 'CSX', 'FISV', 'CHTR', 'MU', 'LRCX', 'ATVI', 'KDP', 'ORLY', 'MNST', 'KLAC', 'MAR', 'PANW', 'SNPS', 'ASML', 'AEP', 'KHC', 'MELI', 'CTAS', 'CDNS', 'LULU', 'DXCM', 'PAYX', 'NXPI', 'BIIB', 'ENPH',  'ADSK', 'MCHP',  'FTNT', 'ROST', 'EXC', 'AZN',  'ABNB', 'XEL', 'MRVL', 'PCAR', 'EA', 'WBA', 'PDD', 'ILMN', 'IDXX', 'DLTR', 'ODFL',  'CTSH', 'CEG', 'CPRT', 'CRWD', 'FAST', 'WDAY', 'VRSK', 'JD', 'SIRI', 'EBAY', 'SGEN', 'DDOG', 'VRSN', 'ANSS', 'ZS', 'TEAM', 'ZM', 'BIDU', 'LCID', 'ALGN', 'SWKS', 'MTCH', 'SPLK', 'NTES', 'DOCU']\n",
    "\n",
    "data_orig = yf.download(stocklist)"
   ],
   "metadata": {
    "collapsed": false
   }
  },
  {
   "cell_type": "code",
   "execution_count": 9,
   "outputs": [
    {
     "data": {
      "text/plain": "             Adj Close                                                  \\\n                  AAPL        ABNB        ADBE         ADI         ADP   \nDate                                                                     \n1962-01-02         NaN         NaN         NaN         NaN         NaN   \n1962-01-03         NaN         NaN         NaN         NaN         NaN   \n1962-01-04         NaN         NaN         NaN         NaN         NaN   \n1962-01-05         NaN         NaN         NaN         NaN         NaN   \n1962-01-08         NaN         NaN         NaN         NaN         NaN   \n...                ...         ...         ...         ...         ...   \n2022-11-28  144.220001   95.300003  328.970001  163.283096  258.329987   \n2022-11-29  141.169998   95.379997  326.779999  163.163635  257.059998   \n2022-11-30  148.029999  102.139999  344.929993  171.148102  264.140015   \n2022-12-01  148.309998  101.269997  344.109985  170.719986  267.950012   \n2022-12-02  147.809998  101.000000  341.529999  168.630005  269.899994   \n\n                                                                      ...  \\\n                  ADSK        AEP        ALGN        AMAT        AMD  ...   \nDate                                                                  ...   \n1962-01-02         NaN   1.010088         NaN         NaN        NaN  ...   \n1962-01-03         NaN   1.008248         NaN         NaN        NaN  ...   \n1962-01-04         NaN   0.993528         NaN         NaN        NaN  ...   \n1962-01-05         NaN   0.971451         NaN         NaN        NaN  ...   \n1962-01-08         NaN   0.964091         NaN         NaN        NaN  ...   \n...                ...        ...         ...         ...        ...  ...   \n2022-11-28  195.350006  95.220001  189.779999  103.470001  73.190002  ...   \n2022-11-29  195.179993  94.650002  191.830002  103.250000  73.389999  ...   \n2022-11-30  201.949997  96.800003  196.660004  109.599998  77.629997  ...   \n2022-12-01  206.929993  96.480003  201.770004  107.010002  77.480003  ...   \n2022-12-02  201.110001  95.120003  198.410004  106.709999  74.980003  ...   \n\n                 Volume                                              \\\n                   TSLA        TXN       VRSK       VRSN       VRTX   \nDate                                                                  \n1962-01-02          NaN        NaN        NaN        NaN        NaN   \n1962-01-03          NaN        NaN        NaN        NaN        NaN   \n1962-01-04          NaN        NaN        NaN        NaN        NaN   \n1962-01-05          NaN        NaN        NaN        NaN        NaN   \n1962-01-08          NaN        NaN        NaN        NaN        NaN   \n...                 ...        ...        ...        ...        ...   \n2022-11-28   92905200.0  5358800.0   828500.0   488200.0  1113500.0   \n2022-11-29   83357100.0  3134000.0   791000.0   381100.0  1380400.0   \n2022-11-30  109186400.0  9779600.0  2044500.0  2729300.0  6633400.0   \n2022-12-01   80046200.0  5479900.0   875500.0   780700.0  1549100.0   \n2022-12-02   73533400.0  3822900.0   848500.0   593400.0  1094800.0   \n\n                                                                   \n                  WBA       WDAY        XEL         ZM         ZS  \nDate                                                               \n1962-01-02        NaN        NaN        NaN        NaN        NaN  \n1962-01-03        NaN        NaN        NaN        NaN        NaN  \n1962-01-04        NaN        NaN        NaN        NaN        NaN  \n1962-01-05        NaN        NaN        NaN        NaN        NaN  \n1962-01-08        NaN        NaN        NaN        NaN        NaN  \n...               ...        ...        ...        ...        ...  \n2022-11-28  4687900.0  3135100.0  2197600.0  6245400.0  1515000.0  \n2022-11-29  3213600.0  3350800.0  1873400.0  4879300.0  1906300.0  \n2022-11-30  7590700.0  8712600.0  4911400.0  6213800.0  5204100.0  \n2022-12-01  4511400.0  3329400.0  2520300.0  4777700.0  7077700.0  \n2022-12-02  4857300.0  2552900.0  2811700.0  3295000.0  9659100.0  \n\n[15337 rows x 612 columns]",
      "text/html": "<div>\n<style scoped>\n    .dataframe tbody tr th:only-of-type {\n        vertical-align: middle;\n    }\n\n    .dataframe tbody tr th {\n        vertical-align: top;\n    }\n\n    .dataframe thead tr th {\n        text-align: left;\n    }\n\n    .dataframe thead tr:last-of-type th {\n        text-align: right;\n    }\n</style>\n<table border=\"1\" class=\"dataframe\">\n  <thead>\n    <tr>\n      <th></th>\n      <th colspan=\"10\" halign=\"left\">Adj Close</th>\n      <th>...</th>\n      <th colspan=\"10\" halign=\"left\">Volume</th>\n    </tr>\n    <tr>\n      <th></th>\n      <th>AAPL</th>\n      <th>ABNB</th>\n      <th>ADBE</th>\n      <th>ADI</th>\n      <th>ADP</th>\n      <th>ADSK</th>\n      <th>AEP</th>\n      <th>ALGN</th>\n      <th>AMAT</th>\n      <th>AMD</th>\n      <th>...</th>\n      <th>TSLA</th>\n      <th>TXN</th>\n      <th>VRSK</th>\n      <th>VRSN</th>\n      <th>VRTX</th>\n      <th>WBA</th>\n      <th>WDAY</th>\n      <th>XEL</th>\n      <th>ZM</th>\n      <th>ZS</th>\n    </tr>\n    <tr>\n      <th>Date</th>\n      <th></th>\n      <th></th>\n      <th></th>\n      <th></th>\n      <th></th>\n      <th></th>\n      <th></th>\n      <th></th>\n      <th></th>\n      <th></th>\n      <th></th>\n      <th></th>\n      <th></th>\n      <th></th>\n      <th></th>\n      <th></th>\n      <th></th>\n      <th></th>\n      <th></th>\n      <th></th>\n      <th></th>\n    </tr>\n  </thead>\n  <tbody>\n    <tr>\n      <th>1962-01-02</th>\n      <td>NaN</td>\n      <td>NaN</td>\n      <td>NaN</td>\n      <td>NaN</td>\n      <td>NaN</td>\n      <td>NaN</td>\n      <td>1.010088</td>\n      <td>NaN</td>\n      <td>NaN</td>\n      <td>NaN</td>\n      <td>...</td>\n      <td>NaN</td>\n      <td>NaN</td>\n      <td>NaN</td>\n      <td>NaN</td>\n      <td>NaN</td>\n      <td>NaN</td>\n      <td>NaN</td>\n      <td>NaN</td>\n      <td>NaN</td>\n      <td>NaN</td>\n    </tr>\n    <tr>\n      <th>1962-01-03</th>\n      <td>NaN</td>\n      <td>NaN</td>\n      <td>NaN</td>\n      <td>NaN</td>\n      <td>NaN</td>\n      <td>NaN</td>\n      <td>1.008248</td>\n      <td>NaN</td>\n      <td>NaN</td>\n      <td>NaN</td>\n      <td>...</td>\n      <td>NaN</td>\n      <td>NaN</td>\n      <td>NaN</td>\n      <td>NaN</td>\n      <td>NaN</td>\n      <td>NaN</td>\n      <td>NaN</td>\n      <td>NaN</td>\n      <td>NaN</td>\n      <td>NaN</td>\n    </tr>\n    <tr>\n      <th>1962-01-04</th>\n      <td>NaN</td>\n      <td>NaN</td>\n      <td>NaN</td>\n      <td>NaN</td>\n      <td>NaN</td>\n      <td>NaN</td>\n      <td>0.993528</td>\n      <td>NaN</td>\n      <td>NaN</td>\n      <td>NaN</td>\n      <td>...</td>\n      <td>NaN</td>\n      <td>NaN</td>\n      <td>NaN</td>\n      <td>NaN</td>\n      <td>NaN</td>\n      <td>NaN</td>\n      <td>NaN</td>\n      <td>NaN</td>\n      <td>NaN</td>\n      <td>NaN</td>\n    </tr>\n    <tr>\n      <th>1962-01-05</th>\n      <td>NaN</td>\n      <td>NaN</td>\n      <td>NaN</td>\n      <td>NaN</td>\n      <td>NaN</td>\n      <td>NaN</td>\n      <td>0.971451</td>\n      <td>NaN</td>\n      <td>NaN</td>\n      <td>NaN</td>\n      <td>...</td>\n      <td>NaN</td>\n      <td>NaN</td>\n      <td>NaN</td>\n      <td>NaN</td>\n      <td>NaN</td>\n      <td>NaN</td>\n      <td>NaN</td>\n      <td>NaN</td>\n      <td>NaN</td>\n      <td>NaN</td>\n    </tr>\n    <tr>\n      <th>1962-01-08</th>\n      <td>NaN</td>\n      <td>NaN</td>\n      <td>NaN</td>\n      <td>NaN</td>\n      <td>NaN</td>\n      <td>NaN</td>\n      <td>0.964091</td>\n      <td>NaN</td>\n      <td>NaN</td>\n      <td>NaN</td>\n      <td>...</td>\n      <td>NaN</td>\n      <td>NaN</td>\n      <td>NaN</td>\n      <td>NaN</td>\n      <td>NaN</td>\n      <td>NaN</td>\n      <td>NaN</td>\n      <td>NaN</td>\n      <td>NaN</td>\n      <td>NaN</td>\n    </tr>\n    <tr>\n      <th>...</th>\n      <td>...</td>\n      <td>...</td>\n      <td>...</td>\n      <td>...</td>\n      <td>...</td>\n      <td>...</td>\n      <td>...</td>\n      <td>...</td>\n      <td>...</td>\n      <td>...</td>\n      <td>...</td>\n      <td>...</td>\n      <td>...</td>\n      <td>...</td>\n      <td>...</td>\n      <td>...</td>\n      <td>...</td>\n      <td>...</td>\n      <td>...</td>\n      <td>...</td>\n      <td>...</td>\n    </tr>\n    <tr>\n      <th>2022-11-28</th>\n      <td>144.220001</td>\n      <td>95.300003</td>\n      <td>328.970001</td>\n      <td>163.283096</td>\n      <td>258.329987</td>\n      <td>195.350006</td>\n      <td>95.220001</td>\n      <td>189.779999</td>\n      <td>103.470001</td>\n      <td>73.190002</td>\n      <td>...</td>\n      <td>92905200.0</td>\n      <td>5358800.0</td>\n      <td>828500.0</td>\n      <td>488200.0</td>\n      <td>1113500.0</td>\n      <td>4687900.0</td>\n      <td>3135100.0</td>\n      <td>2197600.0</td>\n      <td>6245400.0</td>\n      <td>1515000.0</td>\n    </tr>\n    <tr>\n      <th>2022-11-29</th>\n      <td>141.169998</td>\n      <td>95.379997</td>\n      <td>326.779999</td>\n      <td>163.163635</td>\n      <td>257.059998</td>\n      <td>195.179993</td>\n      <td>94.650002</td>\n      <td>191.830002</td>\n      <td>103.250000</td>\n      <td>73.389999</td>\n      <td>...</td>\n      <td>83357100.0</td>\n      <td>3134000.0</td>\n      <td>791000.0</td>\n      <td>381100.0</td>\n      <td>1380400.0</td>\n      <td>3213600.0</td>\n      <td>3350800.0</td>\n      <td>1873400.0</td>\n      <td>4879300.0</td>\n      <td>1906300.0</td>\n    </tr>\n    <tr>\n      <th>2022-11-30</th>\n      <td>148.029999</td>\n      <td>102.139999</td>\n      <td>344.929993</td>\n      <td>171.148102</td>\n      <td>264.140015</td>\n      <td>201.949997</td>\n      <td>96.800003</td>\n      <td>196.660004</td>\n      <td>109.599998</td>\n      <td>77.629997</td>\n      <td>...</td>\n      <td>109186400.0</td>\n      <td>9779600.0</td>\n      <td>2044500.0</td>\n      <td>2729300.0</td>\n      <td>6633400.0</td>\n      <td>7590700.0</td>\n      <td>8712600.0</td>\n      <td>4911400.0</td>\n      <td>6213800.0</td>\n      <td>5204100.0</td>\n    </tr>\n    <tr>\n      <th>2022-12-01</th>\n      <td>148.309998</td>\n      <td>101.269997</td>\n      <td>344.109985</td>\n      <td>170.719986</td>\n      <td>267.950012</td>\n      <td>206.929993</td>\n      <td>96.480003</td>\n      <td>201.770004</td>\n      <td>107.010002</td>\n      <td>77.480003</td>\n      <td>...</td>\n      <td>80046200.0</td>\n      <td>5479900.0</td>\n      <td>875500.0</td>\n      <td>780700.0</td>\n      <td>1549100.0</td>\n      <td>4511400.0</td>\n      <td>3329400.0</td>\n      <td>2520300.0</td>\n      <td>4777700.0</td>\n      <td>7077700.0</td>\n    </tr>\n    <tr>\n      <th>2022-12-02</th>\n      <td>147.809998</td>\n      <td>101.000000</td>\n      <td>341.529999</td>\n      <td>168.630005</td>\n      <td>269.899994</td>\n      <td>201.110001</td>\n      <td>95.120003</td>\n      <td>198.410004</td>\n      <td>106.709999</td>\n      <td>74.980003</td>\n      <td>...</td>\n      <td>73533400.0</td>\n      <td>3822900.0</td>\n      <td>848500.0</td>\n      <td>593400.0</td>\n      <td>1094800.0</td>\n      <td>4857300.0</td>\n      <td>2552900.0</td>\n      <td>2811700.0</td>\n      <td>3295000.0</td>\n      <td>9659100.0</td>\n    </tr>\n  </tbody>\n</table>\n<p>15337 rows × 612 columns</p>\n</div>"
     },
     "execution_count": 9,
     "metadata": {},
     "output_type": "execute_result"
    }
   ],
   "source": [
    "data_orig.columns"
   ],
   "metadata": {
    "collapsed": false
   }
  },
  {
   "cell_type": "code",
   "execution_count": 13,
   "outputs": [
    {
     "data": {
      "text/plain": "MultiIndex([('Adj Close', 'AAPL'),\n            ('Adj Close', 'ABNB'),\n            ('Adj Close', 'ADBE'),\n            ('Adj Close',  'ADI'),\n            ('Adj Close',  'ADP'),\n            ('Adj Close', 'ADSK'),\n            ('Adj Close',  'AEP'),\n            ('Adj Close', 'ALGN'),\n            ('Adj Close', 'AMAT'),\n            ('Adj Close',  'AMD'),\n            ...\n            (   'Volume', 'TSLA'),\n            (   'Volume',  'TXN'),\n            (   'Volume', 'VRSK'),\n            (   'Volume', 'VRSN'),\n            (   'Volume', 'VRTX'),\n            (   'Volume',  'WBA'),\n            (   'Volume', 'WDAY'),\n            (   'Volume',  'XEL'),\n            (   'Volume',   'ZM'),\n            (   'Volume',   'ZS')],\n           length=612)"
     },
     "execution_count": 13,
     "metadata": {},
     "output_type": "execute_result"
    }
   ],
   "source": [
    "data_orig.columns"
   ],
   "metadata": {
    "collapsed": false
   }
  },
  {
   "cell_type": "markdown",
   "source": [
    "# Close"
   ],
   "metadata": {
    "collapsed": false
   }
  },
  {
   "cell_type": "code",
   "execution_count": 76,
   "outputs": [
    {
     "data": {
      "text/plain": "                  AAPL        ABNB        ADBE         ADI         ADP  \\\nDate                                                                     \n2015-09-04   27.317499         NaN   76.889999   53.959999   76.150002   \n2015-09-08   28.077499         NaN   79.779999   57.770000   78.199997   \n2015-09-09   27.537500         NaN   78.519997   56.270000   77.510002   \n2015-09-10   28.142500         NaN   78.699997   56.009998   77.919998   \n2015-09-11   28.552500         NaN   79.190002   56.349998   78.309998   \n...                ...         ...         ...         ...         ...   \n2022-11-28  144.220001   95.300003  328.970001  164.009995  258.329987   \n2022-11-29  141.169998   95.379997  326.779999  163.889999  257.059998   \n2022-11-30  148.029999  102.139999  344.929993  171.910004  264.140015   \n2022-12-01  148.309998  101.269997  344.109985  171.479996  267.950012   \n2022-12-02  147.809998  101.000000  341.529999  168.630005  269.899994   \n\n                  ADSK        AEP        ALGN        AMAT        AMD  ...  \\\nDate                                                                  ...   \n2015-09-04   45.369999  52.540001   54.279999   15.390000   1.820000  ...   \n2015-09-08   46.810001  54.080002   55.400002   15.730000   1.880000  ...   \n2015-09-09   46.160000  53.369999   54.970001   15.460000   1.850000  ...   \n2015-09-10   46.230000  53.389999   55.189999   15.560000   1.840000  ...   \n2015-09-11   46.299999  53.779999   55.549999   15.500000   2.010000  ...   \n...                ...        ...         ...         ...        ...  ...   \n2022-11-28  195.350006  95.220001  189.779999  103.470001  73.190002  ...   \n2022-11-29  195.179993  94.650002  191.830002  103.250000  73.389999  ...   \n2022-11-30  201.949997  96.800003  196.660004  109.599998  77.629997  ...   \n2022-12-01  206.929993  96.480003  201.770004  107.010002  77.480003  ...   \n2022-12-02  201.110001  95.120003  198.410004  106.709999  74.980003  ...   \n\n                  TSLA         TXN        VRSK        VRSN        VRTX  \\\nDate                                                                     \n2015-09-04   16.128668   46.529999   72.809998   67.129997  126.989998   \n2015-09-08   16.544666   48.689999   74.779999   68.230003  133.110001   \n2015-09-09   16.594000   47.610001   73.470001   68.099998  129.949997   \n2015-09-10   16.565332   47.410000   73.760002   68.790001  132.000000   \n2015-09-11   16.682667   47.570000   73.870003   69.160004  134.059998   \n...                ...         ...         ...         ...         ...   \n2022-11-28  182.919998  173.000000  177.539993  197.750000  315.299988   \n2022-11-29  180.830002  172.979996  176.929993  194.960007  316.329987   \n2022-11-30  194.699997  180.460007  183.710007  199.809998  316.399994   \n2022-12-01  194.699997  177.500000  186.139999  204.570007  320.760010   \n2022-12-02  194.860001  177.660004  185.440002  202.100006  321.369995   \n\n                  WBA        WDAY        XEL         ZM          ZS  \nDate                                                                 \n2015-09-04  87.430000   70.089996  32.630001        NaN         NaN  \n2015-09-08  90.089996   71.769997  33.080002        NaN         NaN  \n2015-09-09  88.940002   70.269997  32.560001        NaN         NaN  \n2015-09-10  89.379997   70.160004  32.709999        NaN         NaN  \n2015-09-11  90.400002   71.360001  33.160000        NaN         NaN  \n...               ...         ...        ...        ...         ...  \n2022-11-28  40.810001  145.250000  69.389999  71.589996  136.720001  \n2022-11-29  41.080002  143.300003  68.849998  70.570000  134.850006  \n2022-11-30  41.500000  167.899994  70.220001  75.430000  133.449997  \n2022-12-01  41.310001  169.479996  70.190002  77.430000  144.500000  \n2022-12-02  41.480000  170.990005  69.139999  74.309998  128.990005  \n\n[1825 rows x 102 columns]",
      "text/html": "<div>\n<style scoped>\n    .dataframe tbody tr th:only-of-type {\n        vertical-align: middle;\n    }\n\n    .dataframe tbody tr th {\n        vertical-align: top;\n    }\n\n    .dataframe thead th {\n        text-align: right;\n    }\n</style>\n<table border=\"1\" class=\"dataframe\">\n  <thead>\n    <tr style=\"text-align: right;\">\n      <th></th>\n      <th>AAPL</th>\n      <th>ABNB</th>\n      <th>ADBE</th>\n      <th>ADI</th>\n      <th>ADP</th>\n      <th>ADSK</th>\n      <th>AEP</th>\n      <th>ALGN</th>\n      <th>AMAT</th>\n      <th>AMD</th>\n      <th>...</th>\n      <th>TSLA</th>\n      <th>TXN</th>\n      <th>VRSK</th>\n      <th>VRSN</th>\n      <th>VRTX</th>\n      <th>WBA</th>\n      <th>WDAY</th>\n      <th>XEL</th>\n      <th>ZM</th>\n      <th>ZS</th>\n    </tr>\n    <tr>\n      <th>Date</th>\n      <th></th>\n      <th></th>\n      <th></th>\n      <th></th>\n      <th></th>\n      <th></th>\n      <th></th>\n      <th></th>\n      <th></th>\n      <th></th>\n      <th></th>\n      <th></th>\n      <th></th>\n      <th></th>\n      <th></th>\n      <th></th>\n      <th></th>\n      <th></th>\n      <th></th>\n      <th></th>\n      <th></th>\n    </tr>\n  </thead>\n  <tbody>\n    <tr>\n      <th>2015-09-04</th>\n      <td>27.317499</td>\n      <td>NaN</td>\n      <td>76.889999</td>\n      <td>53.959999</td>\n      <td>76.150002</td>\n      <td>45.369999</td>\n      <td>52.540001</td>\n      <td>54.279999</td>\n      <td>15.390000</td>\n      <td>1.820000</td>\n      <td>...</td>\n      <td>16.128668</td>\n      <td>46.529999</td>\n      <td>72.809998</td>\n      <td>67.129997</td>\n      <td>126.989998</td>\n      <td>87.430000</td>\n      <td>70.089996</td>\n      <td>32.630001</td>\n      <td>NaN</td>\n      <td>NaN</td>\n    </tr>\n    <tr>\n      <th>2015-09-08</th>\n      <td>28.077499</td>\n      <td>NaN</td>\n      <td>79.779999</td>\n      <td>57.770000</td>\n      <td>78.199997</td>\n      <td>46.810001</td>\n      <td>54.080002</td>\n      <td>55.400002</td>\n      <td>15.730000</td>\n      <td>1.880000</td>\n      <td>...</td>\n      <td>16.544666</td>\n      <td>48.689999</td>\n      <td>74.779999</td>\n      <td>68.230003</td>\n      <td>133.110001</td>\n      <td>90.089996</td>\n      <td>71.769997</td>\n      <td>33.080002</td>\n      <td>NaN</td>\n      <td>NaN</td>\n    </tr>\n    <tr>\n      <th>2015-09-09</th>\n      <td>27.537500</td>\n      <td>NaN</td>\n      <td>78.519997</td>\n      <td>56.270000</td>\n      <td>77.510002</td>\n      <td>46.160000</td>\n      <td>53.369999</td>\n      <td>54.970001</td>\n      <td>15.460000</td>\n      <td>1.850000</td>\n      <td>...</td>\n      <td>16.594000</td>\n      <td>47.610001</td>\n      <td>73.470001</td>\n      <td>68.099998</td>\n      <td>129.949997</td>\n      <td>88.940002</td>\n      <td>70.269997</td>\n      <td>32.560001</td>\n      <td>NaN</td>\n      <td>NaN</td>\n    </tr>\n    <tr>\n      <th>2015-09-10</th>\n      <td>28.142500</td>\n      <td>NaN</td>\n      <td>78.699997</td>\n      <td>56.009998</td>\n      <td>77.919998</td>\n      <td>46.230000</td>\n      <td>53.389999</td>\n      <td>55.189999</td>\n      <td>15.560000</td>\n      <td>1.840000</td>\n      <td>...</td>\n      <td>16.565332</td>\n      <td>47.410000</td>\n      <td>73.760002</td>\n      <td>68.790001</td>\n      <td>132.000000</td>\n      <td>89.379997</td>\n      <td>70.160004</td>\n      <td>32.709999</td>\n      <td>NaN</td>\n      <td>NaN</td>\n    </tr>\n    <tr>\n      <th>2015-09-11</th>\n      <td>28.552500</td>\n      <td>NaN</td>\n      <td>79.190002</td>\n      <td>56.349998</td>\n      <td>78.309998</td>\n      <td>46.299999</td>\n      <td>53.779999</td>\n      <td>55.549999</td>\n      <td>15.500000</td>\n      <td>2.010000</td>\n      <td>...</td>\n      <td>16.682667</td>\n      <td>47.570000</td>\n      <td>73.870003</td>\n      <td>69.160004</td>\n      <td>134.059998</td>\n      <td>90.400002</td>\n      <td>71.360001</td>\n      <td>33.160000</td>\n      <td>NaN</td>\n      <td>NaN</td>\n    </tr>\n    <tr>\n      <th>...</th>\n      <td>...</td>\n      <td>...</td>\n      <td>...</td>\n      <td>...</td>\n      <td>...</td>\n      <td>...</td>\n      <td>...</td>\n      <td>...</td>\n      <td>...</td>\n      <td>...</td>\n      <td>...</td>\n      <td>...</td>\n      <td>...</td>\n      <td>...</td>\n      <td>...</td>\n      <td>...</td>\n      <td>...</td>\n      <td>...</td>\n      <td>...</td>\n      <td>...</td>\n      <td>...</td>\n    </tr>\n    <tr>\n      <th>2022-11-28</th>\n      <td>144.220001</td>\n      <td>95.300003</td>\n      <td>328.970001</td>\n      <td>164.009995</td>\n      <td>258.329987</td>\n      <td>195.350006</td>\n      <td>95.220001</td>\n      <td>189.779999</td>\n      <td>103.470001</td>\n      <td>73.190002</td>\n      <td>...</td>\n      <td>182.919998</td>\n      <td>173.000000</td>\n      <td>177.539993</td>\n      <td>197.750000</td>\n      <td>315.299988</td>\n      <td>40.810001</td>\n      <td>145.250000</td>\n      <td>69.389999</td>\n      <td>71.589996</td>\n      <td>136.720001</td>\n    </tr>\n    <tr>\n      <th>2022-11-29</th>\n      <td>141.169998</td>\n      <td>95.379997</td>\n      <td>326.779999</td>\n      <td>163.889999</td>\n      <td>257.059998</td>\n      <td>195.179993</td>\n      <td>94.650002</td>\n      <td>191.830002</td>\n      <td>103.250000</td>\n      <td>73.389999</td>\n      <td>...</td>\n      <td>180.830002</td>\n      <td>172.979996</td>\n      <td>176.929993</td>\n      <td>194.960007</td>\n      <td>316.329987</td>\n      <td>41.080002</td>\n      <td>143.300003</td>\n      <td>68.849998</td>\n      <td>70.570000</td>\n      <td>134.850006</td>\n    </tr>\n    <tr>\n      <th>2022-11-30</th>\n      <td>148.029999</td>\n      <td>102.139999</td>\n      <td>344.929993</td>\n      <td>171.910004</td>\n      <td>264.140015</td>\n      <td>201.949997</td>\n      <td>96.800003</td>\n      <td>196.660004</td>\n      <td>109.599998</td>\n      <td>77.629997</td>\n      <td>...</td>\n      <td>194.699997</td>\n      <td>180.460007</td>\n      <td>183.710007</td>\n      <td>199.809998</td>\n      <td>316.399994</td>\n      <td>41.500000</td>\n      <td>167.899994</td>\n      <td>70.220001</td>\n      <td>75.430000</td>\n      <td>133.449997</td>\n    </tr>\n    <tr>\n      <th>2022-12-01</th>\n      <td>148.309998</td>\n      <td>101.269997</td>\n      <td>344.109985</td>\n      <td>171.479996</td>\n      <td>267.950012</td>\n      <td>206.929993</td>\n      <td>96.480003</td>\n      <td>201.770004</td>\n      <td>107.010002</td>\n      <td>77.480003</td>\n      <td>...</td>\n      <td>194.699997</td>\n      <td>177.500000</td>\n      <td>186.139999</td>\n      <td>204.570007</td>\n      <td>320.760010</td>\n      <td>41.310001</td>\n      <td>169.479996</td>\n      <td>70.190002</td>\n      <td>77.430000</td>\n      <td>144.500000</td>\n    </tr>\n    <tr>\n      <th>2022-12-02</th>\n      <td>147.809998</td>\n      <td>101.000000</td>\n      <td>341.529999</td>\n      <td>168.630005</td>\n      <td>269.899994</td>\n      <td>201.110001</td>\n      <td>95.120003</td>\n      <td>198.410004</td>\n      <td>106.709999</td>\n      <td>74.980003</td>\n      <td>...</td>\n      <td>194.860001</td>\n      <td>177.660004</td>\n      <td>185.440002</td>\n      <td>202.100006</td>\n      <td>321.369995</td>\n      <td>41.480000</td>\n      <td>170.990005</td>\n      <td>69.139999</td>\n      <td>74.309998</td>\n      <td>128.990005</td>\n    </tr>\n  </tbody>\n</table>\n<p>1825 rows × 102 columns</p>\n</div>"
     },
     "execution_count": 76,
     "metadata": {},
     "output_type": "execute_result"
    }
   ],
   "source": [
    "df_close = data_orig['Close']\n",
    "df_close = df_close[(5*-365):]\n",
    "df_close.reset_index().set_index('Date')\n",
    "df_close"
   ],
   "metadata": {
    "collapsed": false
   }
  },
  {
   "cell_type": "code",
   "execution_count": 77,
   "outputs": [
    {
     "data": {
      "text/plain": "                  AAPL        ABNB        ADBE         ADI         ADP  \\\nDate                                                                     \n2015-09-04   27.317499         NaN   76.889999   53.959999   76.150002   \n2015-09-08   28.077499         NaN   79.779999   57.770000   78.199997   \n2015-09-09   27.537500         NaN   78.519997   56.270000   77.510002   \n2015-09-10   28.142500         NaN   78.699997   56.009998   77.919998   \n2015-09-11   28.552500         NaN   79.190002   56.349998   78.309998   \n...                ...         ...         ...         ...         ...   \n2022-01-11  175.080002  168.610001  529.890015  173.630005  235.279999   \n2022-01-12  175.529999  169.539993  532.369995  173.750000  234.630005   \n2022-01-13  172.190002  166.000000  516.900024  169.779999  231.929993   \n2022-01-14  173.070007  163.990005  520.599976  172.000000  228.750000   \n2022-01-18  169.800003  154.690002  513.340027  166.500000  226.440002   \n\n                  ADSK        AEP        ALGN        AMAT         AMD  ...  \\\nDate                                                                   ...   \n2015-09-04   45.369999  52.540001   54.279999   15.390000    1.820000  ...   \n2015-09-08   46.810001  54.080002   55.400002   15.730000    1.880000  ...   \n2015-09-09   46.160000  53.369999   54.970001   15.460000    1.850000  ...   \n2015-09-10   46.230000  53.389999   55.189999   15.560000    1.840000  ...   \n2015-09-11   46.299999  53.779999   55.549999   15.500000    2.010000  ...   \n...                ...        ...         ...         ...         ...  ...   \n2022-01-11  270.630005  89.769997  559.640015  152.449997  137.309998  ...   \n2022-01-12  269.600006  90.290001  539.469971  159.550003  137.470001  ...   \n2022-01-13  260.170013  90.860001  524.780029  157.179993  132.740005  ...   \n2022-01-14  259.100006  90.980003  524.630005  167.000000  136.880005  ...   \n2022-01-18  252.029999  90.320000  489.559998  152.360001  131.929993  ...   \n\n                  TSLA         TXN        VRSK        VRSN        VRTX  \\\nDate                                                                     \n2015-09-04   16.128668   46.529999   72.809998   67.129997  126.989998   \n2015-09-08   16.544666   48.689999   74.779999   68.230003  133.110001   \n2015-09-09   16.594000   47.610001   73.470001   68.099998  129.949997   \n2015-09-10   16.565332   47.410000   73.760002   68.790001  132.000000   \n2015-09-11   16.682667   47.570000   73.870003   69.160004  134.059998   \n...                ...         ...         ...         ...         ...   \n2022-01-11  354.799988  184.639999  208.679993  236.240005  226.149994   \n2022-01-12  368.739990  186.029999  207.389999  238.250000  226.139999   \n2022-01-13  343.853333  184.149994  203.110001  229.860001  226.580002   \n2022-01-14  349.869995  187.009995  198.149994  226.479996  234.059998   \n2022-01-18  343.503326  182.279999  198.449997  220.100006  231.070007   \n\n                  WBA        WDAY        XEL          ZM          ZS  \nDate                                                                  \n2015-09-04  87.430000   70.089996  32.630001         NaN         NaN  \n2015-09-08  90.089996   71.769997  33.080002         NaN         NaN  \n2015-09-09  88.940002   70.269997  32.560001         NaN         NaN  \n2015-09-10  89.379997   70.160004  32.709999         NaN         NaN  \n2015-09-11  90.400002   71.360001  33.160000         NaN         NaN  \n...               ...         ...        ...         ...         ...  \n2022-01-11  54.330002  255.720001  68.599998  175.970001  277.529999  \n2022-01-12  53.910000  257.959991  68.589996  170.649994  273.980011  \n2022-01-13  54.189999  249.410004  69.019997  162.100006  250.470001  \n2022-01-14  54.299999  254.309998  68.970001  159.720001  254.740005  \n2022-01-18  53.520000  245.860001  68.389999  157.699997  259.200012  \n\n[1604 rows x 102 columns]",
      "text/html": "<div>\n<style scoped>\n    .dataframe tbody tr th:only-of-type {\n        vertical-align: middle;\n    }\n\n    .dataframe tbody tr th {\n        vertical-align: top;\n    }\n\n    .dataframe thead th {\n        text-align: right;\n    }\n</style>\n<table border=\"1\" class=\"dataframe\">\n  <thead>\n    <tr style=\"text-align: right;\">\n      <th></th>\n      <th>AAPL</th>\n      <th>ABNB</th>\n      <th>ADBE</th>\n      <th>ADI</th>\n      <th>ADP</th>\n      <th>ADSK</th>\n      <th>AEP</th>\n      <th>ALGN</th>\n      <th>AMAT</th>\n      <th>AMD</th>\n      <th>...</th>\n      <th>TSLA</th>\n      <th>TXN</th>\n      <th>VRSK</th>\n      <th>VRSN</th>\n      <th>VRTX</th>\n      <th>WBA</th>\n      <th>WDAY</th>\n      <th>XEL</th>\n      <th>ZM</th>\n      <th>ZS</th>\n    </tr>\n    <tr>\n      <th>Date</th>\n      <th></th>\n      <th></th>\n      <th></th>\n      <th></th>\n      <th></th>\n      <th></th>\n      <th></th>\n      <th></th>\n      <th></th>\n      <th></th>\n      <th></th>\n      <th></th>\n      <th></th>\n      <th></th>\n      <th></th>\n      <th></th>\n      <th></th>\n      <th></th>\n      <th></th>\n      <th></th>\n      <th></th>\n    </tr>\n  </thead>\n  <tbody>\n    <tr>\n      <th>2015-09-04</th>\n      <td>27.317499</td>\n      <td>NaN</td>\n      <td>76.889999</td>\n      <td>53.959999</td>\n      <td>76.150002</td>\n      <td>45.369999</td>\n      <td>52.540001</td>\n      <td>54.279999</td>\n      <td>15.390000</td>\n      <td>1.820000</td>\n      <td>...</td>\n      <td>16.128668</td>\n      <td>46.529999</td>\n      <td>72.809998</td>\n      <td>67.129997</td>\n      <td>126.989998</td>\n      <td>87.430000</td>\n      <td>70.089996</td>\n      <td>32.630001</td>\n      <td>NaN</td>\n      <td>NaN</td>\n    </tr>\n    <tr>\n      <th>2015-09-08</th>\n      <td>28.077499</td>\n      <td>NaN</td>\n      <td>79.779999</td>\n      <td>57.770000</td>\n      <td>78.199997</td>\n      <td>46.810001</td>\n      <td>54.080002</td>\n      <td>55.400002</td>\n      <td>15.730000</td>\n      <td>1.880000</td>\n      <td>...</td>\n      <td>16.544666</td>\n      <td>48.689999</td>\n      <td>74.779999</td>\n      <td>68.230003</td>\n      <td>133.110001</td>\n      <td>90.089996</td>\n      <td>71.769997</td>\n      <td>33.080002</td>\n      <td>NaN</td>\n      <td>NaN</td>\n    </tr>\n    <tr>\n      <th>2015-09-09</th>\n      <td>27.537500</td>\n      <td>NaN</td>\n      <td>78.519997</td>\n      <td>56.270000</td>\n      <td>77.510002</td>\n      <td>46.160000</td>\n      <td>53.369999</td>\n      <td>54.970001</td>\n      <td>15.460000</td>\n      <td>1.850000</td>\n      <td>...</td>\n      <td>16.594000</td>\n      <td>47.610001</td>\n      <td>73.470001</td>\n      <td>68.099998</td>\n      <td>129.949997</td>\n      <td>88.940002</td>\n      <td>70.269997</td>\n      <td>32.560001</td>\n      <td>NaN</td>\n      <td>NaN</td>\n    </tr>\n    <tr>\n      <th>2015-09-10</th>\n      <td>28.142500</td>\n      <td>NaN</td>\n      <td>78.699997</td>\n      <td>56.009998</td>\n      <td>77.919998</td>\n      <td>46.230000</td>\n      <td>53.389999</td>\n      <td>55.189999</td>\n      <td>15.560000</td>\n      <td>1.840000</td>\n      <td>...</td>\n      <td>16.565332</td>\n      <td>47.410000</td>\n      <td>73.760002</td>\n      <td>68.790001</td>\n      <td>132.000000</td>\n      <td>89.379997</td>\n      <td>70.160004</td>\n      <td>32.709999</td>\n      <td>NaN</td>\n      <td>NaN</td>\n    </tr>\n    <tr>\n      <th>2015-09-11</th>\n      <td>28.552500</td>\n      <td>NaN</td>\n      <td>79.190002</td>\n      <td>56.349998</td>\n      <td>78.309998</td>\n      <td>46.299999</td>\n      <td>53.779999</td>\n      <td>55.549999</td>\n      <td>15.500000</td>\n      <td>2.010000</td>\n      <td>...</td>\n      <td>16.682667</td>\n      <td>47.570000</td>\n      <td>73.870003</td>\n      <td>69.160004</td>\n      <td>134.059998</td>\n      <td>90.400002</td>\n      <td>71.360001</td>\n      <td>33.160000</td>\n      <td>NaN</td>\n      <td>NaN</td>\n    </tr>\n    <tr>\n      <th>...</th>\n      <td>...</td>\n      <td>...</td>\n      <td>...</td>\n      <td>...</td>\n      <td>...</td>\n      <td>...</td>\n      <td>...</td>\n      <td>...</td>\n      <td>...</td>\n      <td>...</td>\n      <td>...</td>\n      <td>...</td>\n      <td>...</td>\n      <td>...</td>\n      <td>...</td>\n      <td>...</td>\n      <td>...</td>\n      <td>...</td>\n      <td>...</td>\n      <td>...</td>\n      <td>...</td>\n    </tr>\n    <tr>\n      <th>2022-01-11</th>\n      <td>175.080002</td>\n      <td>168.610001</td>\n      <td>529.890015</td>\n      <td>173.630005</td>\n      <td>235.279999</td>\n      <td>270.630005</td>\n      <td>89.769997</td>\n      <td>559.640015</td>\n      <td>152.449997</td>\n      <td>137.309998</td>\n      <td>...</td>\n      <td>354.799988</td>\n      <td>184.639999</td>\n      <td>208.679993</td>\n      <td>236.240005</td>\n      <td>226.149994</td>\n      <td>54.330002</td>\n      <td>255.720001</td>\n      <td>68.599998</td>\n      <td>175.970001</td>\n      <td>277.529999</td>\n    </tr>\n    <tr>\n      <th>2022-01-12</th>\n      <td>175.529999</td>\n      <td>169.539993</td>\n      <td>532.369995</td>\n      <td>173.750000</td>\n      <td>234.630005</td>\n      <td>269.600006</td>\n      <td>90.290001</td>\n      <td>539.469971</td>\n      <td>159.550003</td>\n      <td>137.470001</td>\n      <td>...</td>\n      <td>368.739990</td>\n      <td>186.029999</td>\n      <td>207.389999</td>\n      <td>238.250000</td>\n      <td>226.139999</td>\n      <td>53.910000</td>\n      <td>257.959991</td>\n      <td>68.589996</td>\n      <td>170.649994</td>\n      <td>273.980011</td>\n    </tr>\n    <tr>\n      <th>2022-01-13</th>\n      <td>172.190002</td>\n      <td>166.000000</td>\n      <td>516.900024</td>\n      <td>169.779999</td>\n      <td>231.929993</td>\n      <td>260.170013</td>\n      <td>90.860001</td>\n      <td>524.780029</td>\n      <td>157.179993</td>\n      <td>132.740005</td>\n      <td>...</td>\n      <td>343.853333</td>\n      <td>184.149994</td>\n      <td>203.110001</td>\n      <td>229.860001</td>\n      <td>226.580002</td>\n      <td>54.189999</td>\n      <td>249.410004</td>\n      <td>69.019997</td>\n      <td>162.100006</td>\n      <td>250.470001</td>\n    </tr>\n    <tr>\n      <th>2022-01-14</th>\n      <td>173.070007</td>\n      <td>163.990005</td>\n      <td>520.599976</td>\n      <td>172.000000</td>\n      <td>228.750000</td>\n      <td>259.100006</td>\n      <td>90.980003</td>\n      <td>524.630005</td>\n      <td>167.000000</td>\n      <td>136.880005</td>\n      <td>...</td>\n      <td>349.869995</td>\n      <td>187.009995</td>\n      <td>198.149994</td>\n      <td>226.479996</td>\n      <td>234.059998</td>\n      <td>54.299999</td>\n      <td>254.309998</td>\n      <td>68.970001</td>\n      <td>159.720001</td>\n      <td>254.740005</td>\n    </tr>\n    <tr>\n      <th>2022-01-18</th>\n      <td>169.800003</td>\n      <td>154.690002</td>\n      <td>513.340027</td>\n      <td>166.500000</td>\n      <td>226.440002</td>\n      <td>252.029999</td>\n      <td>90.320000</td>\n      <td>489.559998</td>\n      <td>152.360001</td>\n      <td>131.929993</td>\n      <td>...</td>\n      <td>343.503326</td>\n      <td>182.279999</td>\n      <td>198.449997</td>\n      <td>220.100006</td>\n      <td>231.070007</td>\n      <td>53.520000</td>\n      <td>245.860001</td>\n      <td>68.389999</td>\n      <td>157.699997</td>\n      <td>259.200012</td>\n    </tr>\n  </tbody>\n</table>\n<p>1604 rows × 102 columns</p>\n</div>"
     },
     "execution_count": 77,
     "metadata": {},
     "output_type": "execute_result"
    }
   ],
   "source": [
    "df_close[df_close.isna().any(axis=1)]"
   ],
   "metadata": {
    "collapsed": false
   }
  },
  {
   "cell_type": "code",
   "execution_count": 78,
   "outputs": [
    {
     "name": "stdout",
     "output_type": "stream",
     "text": [
      "Highest Close Values for last trading day\n"
     ]
    },
    {
     "data": {
      "text/plain": "BKNG     2085.439941\nMELI      945.070007\nORLY      858.409973\nREGN      766.390015\nASML      605.710022\n            ...     \nCMCSA      35.860001\nCSX        32.049999\nINTC       29.410000\nLCID       10.150000\nSIRI        6.240000\nLength: 102, dtype: float64"
     },
     "execution_count": 78,
     "metadata": {},
     "output_type": "execute_result"
    }
   ],
   "source": [
    "print('Highest Close Values for last trading day')\n",
    "df_close.iloc[[-1]].max().sort_values(ascending=False)"
   ],
   "metadata": {
    "collapsed": false
   }
  },
  {
   "cell_type": "markdown",
   "source": [
    "# Volume"
   ],
   "metadata": {
    "collapsed": false
   }
  },
  {
   "cell_type": "code",
   "execution_count": 81,
   "outputs": [
    {
     "data": {
      "text/plain": "                   AAPL       ABNB       ADBE        ADI        ADP  \\\nDate                                                                  \n2015-09-04  199985200.0        NaN  2326500.0  1693700.0  1858800.0   \n2015-09-08  219374400.0        NaN  2670600.0  4119600.0  1764400.0   \n2015-09-09  340043200.0        NaN  2460300.0  2814600.0  3022700.0   \n2015-09-10  251571200.0        NaN  3541000.0  3366000.0  2214600.0   \n2015-09-11  199662000.0        NaN  2913700.0  1762800.0  1508900.0   \n...                 ...        ...        ...        ...        ...   \n2022-11-28   69246000.0  5133900.0  2314800.0  3910900.0  1465700.0   \n2022-11-29   83763800.0  3694000.0  2392600.0  2685800.0  1131700.0   \n2022-11-30  111224400.0  8387500.0  4977800.0  5396300.0  4155500.0   \n2022-12-01   71250400.0  5040300.0  3365200.0  3222200.0  1449900.0   \n2022-12-02   65421400.0  4128000.0  2741800.0  3055200.0  1807000.0   \n\n                 ADSK      AEP       ALGN        AMAT         AMD  ...  \\\nDate                                                               ...   \n2015-09-04  2552700.0  2595300   510000.0  15285300.0   6725300.0  ...   \n2015-09-08  3951100.0  3149600   474800.0  14935300.0   6009500.0  ...   \n2015-09-09  9429500.0  2602800   332500.0  15443800.0  12612300.0  ...   \n2015-09-10  6143500.0  2172500   369700.0  15424000.0   4290400.0  ...   \n2015-09-11  1933900.0  1804500   631300.0  10501800.0  31010300.0  ...   \n...               ...      ...        ...         ...         ...  ...   \n2022-11-28  1624500.0  4529100   772700.0   6382700.0  45383800.0  ...   \n2022-11-29  1473800.0  2044500   583600.0   3450400.0  51846400.0  ...   \n2022-11-30  4608700.0  4346800  1693900.0  11166100.0  88391400.0  ...   \n2022-12-01  1649500.0  2846500   848600.0   6976200.0  59833400.0  ...   \n2022-12-02  1323500.0  3492000   566800.0   3903300.0  64325200.0  ...   \n\n                   TSLA        TXN       VRSK       VRSN       VRTX  \\\nDate                                                                  \n2015-09-04   55338000.0  6603400.0   484900.0   640500.0  1240700.0   \n2015-09-08   47073000.0  7993000.0   539600.0   822600.0  1346900.0   \n2015-09-09   50862000.0  8250100.0   672600.0   825100.0  1104600.0   \n2015-09-10   40635000.0  8543100.0   469800.0   584000.0   981700.0   \n2015-09-11   35262000.0  6567300.0   470100.0   476600.0  1056200.0   \n...                 ...        ...        ...        ...        ...   \n2022-11-28   92905200.0  5358800.0   828500.0   488200.0  1113500.0   \n2022-11-29   83357100.0  3134000.0   791000.0   381100.0  1380400.0   \n2022-11-30  109186400.0  9779600.0  2044500.0  2729300.0  6633400.0   \n2022-12-01   80046200.0  5479900.0   875500.0   780700.0  1549100.0   \n2022-12-02   73533400.0  3822900.0   848500.0   593400.0  1094800.0   \n\n                  WBA       WDAY        XEL         ZM         ZS  \nDate                                                               \n2015-09-04  5468900.0  1075400.0  3989300.0        NaN        NaN  \n2015-09-08  3969000.0  1485600.0  3181900.0        NaN        NaN  \n2015-09-09  3722700.0  1097600.0  4514100.0        NaN        NaN  \n2015-09-10  3991600.0  1348800.0  4989100.0        NaN        NaN  \n2015-09-11  3286200.0  1068000.0  2791900.0        NaN        NaN  \n...               ...        ...        ...        ...        ...  \n2022-11-28  4687900.0  3135100.0  2197600.0  6245400.0  1515000.0  \n2022-11-29  3213600.0  3350800.0  1873400.0  4879300.0  1906300.0  \n2022-11-30  7590700.0  8712600.0  4911400.0  6213800.0  5204100.0  \n2022-12-01  4511400.0  3329400.0  2520300.0  4777700.0  7077700.0  \n2022-12-02  4857300.0  2552900.0  2811700.0  3295000.0  9659100.0  \n\n[1825 rows x 102 columns]",
      "text/html": "<div>\n<style scoped>\n    .dataframe tbody tr th:only-of-type {\n        vertical-align: middle;\n    }\n\n    .dataframe tbody tr th {\n        vertical-align: top;\n    }\n\n    .dataframe thead th {\n        text-align: right;\n    }\n</style>\n<table border=\"1\" class=\"dataframe\">\n  <thead>\n    <tr style=\"text-align: right;\">\n      <th></th>\n      <th>AAPL</th>\n      <th>ABNB</th>\n      <th>ADBE</th>\n      <th>ADI</th>\n      <th>ADP</th>\n      <th>ADSK</th>\n      <th>AEP</th>\n      <th>ALGN</th>\n      <th>AMAT</th>\n      <th>AMD</th>\n      <th>...</th>\n      <th>TSLA</th>\n      <th>TXN</th>\n      <th>VRSK</th>\n      <th>VRSN</th>\n      <th>VRTX</th>\n      <th>WBA</th>\n      <th>WDAY</th>\n      <th>XEL</th>\n      <th>ZM</th>\n      <th>ZS</th>\n    </tr>\n    <tr>\n      <th>Date</th>\n      <th></th>\n      <th></th>\n      <th></th>\n      <th></th>\n      <th></th>\n      <th></th>\n      <th></th>\n      <th></th>\n      <th></th>\n      <th></th>\n      <th></th>\n      <th></th>\n      <th></th>\n      <th></th>\n      <th></th>\n      <th></th>\n      <th></th>\n      <th></th>\n      <th></th>\n      <th></th>\n      <th></th>\n    </tr>\n  </thead>\n  <tbody>\n    <tr>\n      <th>2015-09-04</th>\n      <td>199985200.0</td>\n      <td>NaN</td>\n      <td>2326500.0</td>\n      <td>1693700.0</td>\n      <td>1858800.0</td>\n      <td>2552700.0</td>\n      <td>2595300</td>\n      <td>510000.0</td>\n      <td>15285300.0</td>\n      <td>6725300.0</td>\n      <td>...</td>\n      <td>55338000.0</td>\n      <td>6603400.0</td>\n      <td>484900.0</td>\n      <td>640500.0</td>\n      <td>1240700.0</td>\n      <td>5468900.0</td>\n      <td>1075400.0</td>\n      <td>3989300.0</td>\n      <td>NaN</td>\n      <td>NaN</td>\n    </tr>\n    <tr>\n      <th>2015-09-08</th>\n      <td>219374400.0</td>\n      <td>NaN</td>\n      <td>2670600.0</td>\n      <td>4119600.0</td>\n      <td>1764400.0</td>\n      <td>3951100.0</td>\n      <td>3149600</td>\n      <td>474800.0</td>\n      <td>14935300.0</td>\n      <td>6009500.0</td>\n      <td>...</td>\n      <td>47073000.0</td>\n      <td>7993000.0</td>\n      <td>539600.0</td>\n      <td>822600.0</td>\n      <td>1346900.0</td>\n      <td>3969000.0</td>\n      <td>1485600.0</td>\n      <td>3181900.0</td>\n      <td>NaN</td>\n      <td>NaN</td>\n    </tr>\n    <tr>\n      <th>2015-09-09</th>\n      <td>340043200.0</td>\n      <td>NaN</td>\n      <td>2460300.0</td>\n      <td>2814600.0</td>\n      <td>3022700.0</td>\n      <td>9429500.0</td>\n      <td>2602800</td>\n      <td>332500.0</td>\n      <td>15443800.0</td>\n      <td>12612300.0</td>\n      <td>...</td>\n      <td>50862000.0</td>\n      <td>8250100.0</td>\n      <td>672600.0</td>\n      <td>825100.0</td>\n      <td>1104600.0</td>\n      <td>3722700.0</td>\n      <td>1097600.0</td>\n      <td>4514100.0</td>\n      <td>NaN</td>\n      <td>NaN</td>\n    </tr>\n    <tr>\n      <th>2015-09-10</th>\n      <td>251571200.0</td>\n      <td>NaN</td>\n      <td>3541000.0</td>\n      <td>3366000.0</td>\n      <td>2214600.0</td>\n      <td>6143500.0</td>\n      <td>2172500</td>\n      <td>369700.0</td>\n      <td>15424000.0</td>\n      <td>4290400.0</td>\n      <td>...</td>\n      <td>40635000.0</td>\n      <td>8543100.0</td>\n      <td>469800.0</td>\n      <td>584000.0</td>\n      <td>981700.0</td>\n      <td>3991600.0</td>\n      <td>1348800.0</td>\n      <td>4989100.0</td>\n      <td>NaN</td>\n      <td>NaN</td>\n    </tr>\n    <tr>\n      <th>2015-09-11</th>\n      <td>199662000.0</td>\n      <td>NaN</td>\n      <td>2913700.0</td>\n      <td>1762800.0</td>\n      <td>1508900.0</td>\n      <td>1933900.0</td>\n      <td>1804500</td>\n      <td>631300.0</td>\n      <td>10501800.0</td>\n      <td>31010300.0</td>\n      <td>...</td>\n      <td>35262000.0</td>\n      <td>6567300.0</td>\n      <td>470100.0</td>\n      <td>476600.0</td>\n      <td>1056200.0</td>\n      <td>3286200.0</td>\n      <td>1068000.0</td>\n      <td>2791900.0</td>\n      <td>NaN</td>\n      <td>NaN</td>\n    </tr>\n    <tr>\n      <th>...</th>\n      <td>...</td>\n      <td>...</td>\n      <td>...</td>\n      <td>...</td>\n      <td>...</td>\n      <td>...</td>\n      <td>...</td>\n      <td>...</td>\n      <td>...</td>\n      <td>...</td>\n      <td>...</td>\n      <td>...</td>\n      <td>...</td>\n      <td>...</td>\n      <td>...</td>\n      <td>...</td>\n      <td>...</td>\n      <td>...</td>\n      <td>...</td>\n      <td>...</td>\n      <td>...</td>\n    </tr>\n    <tr>\n      <th>2022-11-28</th>\n      <td>69246000.0</td>\n      <td>5133900.0</td>\n      <td>2314800.0</td>\n      <td>3910900.0</td>\n      <td>1465700.0</td>\n      <td>1624500.0</td>\n      <td>4529100</td>\n      <td>772700.0</td>\n      <td>6382700.0</td>\n      <td>45383800.0</td>\n      <td>...</td>\n      <td>92905200.0</td>\n      <td>5358800.0</td>\n      <td>828500.0</td>\n      <td>488200.0</td>\n      <td>1113500.0</td>\n      <td>4687900.0</td>\n      <td>3135100.0</td>\n      <td>2197600.0</td>\n      <td>6245400.0</td>\n      <td>1515000.0</td>\n    </tr>\n    <tr>\n      <th>2022-11-29</th>\n      <td>83763800.0</td>\n      <td>3694000.0</td>\n      <td>2392600.0</td>\n      <td>2685800.0</td>\n      <td>1131700.0</td>\n      <td>1473800.0</td>\n      <td>2044500</td>\n      <td>583600.0</td>\n      <td>3450400.0</td>\n      <td>51846400.0</td>\n      <td>...</td>\n      <td>83357100.0</td>\n      <td>3134000.0</td>\n      <td>791000.0</td>\n      <td>381100.0</td>\n      <td>1380400.0</td>\n      <td>3213600.0</td>\n      <td>3350800.0</td>\n      <td>1873400.0</td>\n      <td>4879300.0</td>\n      <td>1906300.0</td>\n    </tr>\n    <tr>\n      <th>2022-11-30</th>\n      <td>111224400.0</td>\n      <td>8387500.0</td>\n      <td>4977800.0</td>\n      <td>5396300.0</td>\n      <td>4155500.0</td>\n      <td>4608700.0</td>\n      <td>4346800</td>\n      <td>1693900.0</td>\n      <td>11166100.0</td>\n      <td>88391400.0</td>\n      <td>...</td>\n      <td>109186400.0</td>\n      <td>9779600.0</td>\n      <td>2044500.0</td>\n      <td>2729300.0</td>\n      <td>6633400.0</td>\n      <td>7590700.0</td>\n      <td>8712600.0</td>\n      <td>4911400.0</td>\n      <td>6213800.0</td>\n      <td>5204100.0</td>\n    </tr>\n    <tr>\n      <th>2022-12-01</th>\n      <td>71250400.0</td>\n      <td>5040300.0</td>\n      <td>3365200.0</td>\n      <td>3222200.0</td>\n      <td>1449900.0</td>\n      <td>1649500.0</td>\n      <td>2846500</td>\n      <td>848600.0</td>\n      <td>6976200.0</td>\n      <td>59833400.0</td>\n      <td>...</td>\n      <td>80046200.0</td>\n      <td>5479900.0</td>\n      <td>875500.0</td>\n      <td>780700.0</td>\n      <td>1549100.0</td>\n      <td>4511400.0</td>\n      <td>3329400.0</td>\n      <td>2520300.0</td>\n      <td>4777700.0</td>\n      <td>7077700.0</td>\n    </tr>\n    <tr>\n      <th>2022-12-02</th>\n      <td>65421400.0</td>\n      <td>4128000.0</td>\n      <td>2741800.0</td>\n      <td>3055200.0</td>\n      <td>1807000.0</td>\n      <td>1323500.0</td>\n      <td>3492000</td>\n      <td>566800.0</td>\n      <td>3903300.0</td>\n      <td>64325200.0</td>\n      <td>...</td>\n      <td>73533400.0</td>\n      <td>3822900.0</td>\n      <td>848500.0</td>\n      <td>593400.0</td>\n      <td>1094800.0</td>\n      <td>4857300.0</td>\n      <td>2552900.0</td>\n      <td>2811700.0</td>\n      <td>3295000.0</td>\n      <td>9659100.0</td>\n    </tr>\n  </tbody>\n</table>\n<p>1825 rows × 102 columns</p>\n</div>"
     },
     "execution_count": 81,
     "metadata": {},
     "output_type": "execute_result"
    }
   ],
   "source": [
    "df_vol = data_orig['Volume']\n",
    "df_vol = df_vol[(5*-365):]\n",
    "df_vol.reset_index().set_index('Date')\n",
    "df_vol"
   ],
   "metadata": {
    "collapsed": false
   }
  },
  {
   "cell_type": "code",
   "execution_count": 83,
   "outputs": [
    {
     "name": "stdout",
     "output_type": "stream",
     "text": [
      "Highest Volume values for last trading day\n"
     ]
    },
    {
     "data": {
      "text/plain": "TSLA    73533400.0\nAMZN    72427000.0\nAAPL    65421400.0\nAMD     64325200.0\nMETA    39875100.0\n           ...    \nIDXX      372700.0\nANSS      365700.0\nORLY      365600.0\nCTAS      286000.0\nBKNG      270400.0\nLength: 102, dtype: float64"
     },
     "execution_count": 83,
     "metadata": {},
     "output_type": "execute_result"
    }
   ],
   "source": [
    "print('Highest Volume values for last trading day')\n",
    "df_vol.iloc[[-1]].max().sort_values(ascending=False)"
   ],
   "metadata": {
    "collapsed": false
   }
  },
  {
   "cell_type": "code",
   "execution_count": 89,
   "outputs": [
    {
     "data": {
      "text/plain": "pandas.core.series.Series"
     },
     "execution_count": 89,
     "metadata": {},
     "output_type": "execute_result"
    }
   ],
   "source": [
    "df_tmp = df_vol.iloc[[-1]].max().sort_values(ascending=False)\n",
    "type(df_tmp)"
   ],
   "metadata": {
    "collapsed": false
   }
  },
  {
   "cell_type": "code",
   "execution_count": 91,
   "outputs": [
    {
     "data": {
      "text/plain": "pandas.core.series.Series"
     },
     "execution_count": 91,
     "metadata": {},
     "output_type": "execute_result"
    }
   ],
   "source": [
    "type(df_vol.mean())"
   ],
   "metadata": {
    "collapsed": false
   }
  },
  {
   "cell_type": "code",
   "execution_count": 138,
   "outputs": [
    {
     "data": {
      "text/plain": "       lastvolume  meanvolume  greater         pct\nZS         9.6591    2.296071     True  320.679463\nMRVL      25.0444    8.351373     True  199.883617\nPYPL      24.2129    8.252584     True  193.397808\nTEAM       3.6753    1.302105     True  182.258300\nKDP        6.8063    2.703714     True  151.738858\nSPLK       4.1151    1.931012     True  113.105885\nENPH       5.5369    2.618323     True  111.467441\nPDD       15.6281    7.677513     True  103.556813\nCRWD       8.8474    4.574420     True   93.410333\nMETA      39.8751   21.738425     True   83.431417\nMTCH       3.0845    2.069355     True   49.056107\nCOST       3.6297    2.493945     True   45.540493\nNFLX      12.6835    9.255618     True   37.035687\nDDOG       5.1451    3.765698     True   36.630705\nWDAY       2.5529    1.887680     True   35.240090\nLCID      27.4115   21.481698     True   27.603973\nINTU       1.8760    1.478064     True   26.922820\nAEP        3.4920    2.760928     True   26.479236\nCMCSA     25.8090   20.820136     True   23.961729\nINTC      31.5339   26.433190     True   19.296609\nAMD       64.3252   57.265202     True   12.328601\nADI        3.0552    2.776239     True   10.048158\nSNPS       1.0763    1.011265     True    6.431002\nPCAR       2.0403    2.031195     True    0.448243",
      "text/html": "<div>\n<style scoped>\n    .dataframe tbody tr th:only-of-type {\n        vertical-align: middle;\n    }\n\n    .dataframe tbody tr th {\n        vertical-align: top;\n    }\n\n    .dataframe thead th {\n        text-align: right;\n    }\n</style>\n<table border=\"1\" class=\"dataframe\">\n  <thead>\n    <tr style=\"text-align: right;\">\n      <th></th>\n      <th>lastvolume</th>\n      <th>meanvolume</th>\n      <th>greater</th>\n      <th>pct</th>\n    </tr>\n  </thead>\n  <tbody>\n    <tr>\n      <th>ZS</th>\n      <td>9.6591</td>\n      <td>2.296071</td>\n      <td>True</td>\n      <td>320.679463</td>\n    </tr>\n    <tr>\n      <th>MRVL</th>\n      <td>25.0444</td>\n      <td>8.351373</td>\n      <td>True</td>\n      <td>199.883617</td>\n    </tr>\n    <tr>\n      <th>PYPL</th>\n      <td>24.2129</td>\n      <td>8.252584</td>\n      <td>True</td>\n      <td>193.397808</td>\n    </tr>\n    <tr>\n      <th>TEAM</th>\n      <td>3.6753</td>\n      <td>1.302105</td>\n      <td>True</td>\n      <td>182.258300</td>\n    </tr>\n    <tr>\n      <th>KDP</th>\n      <td>6.8063</td>\n      <td>2.703714</td>\n      <td>True</td>\n      <td>151.738858</td>\n    </tr>\n    <tr>\n      <th>SPLK</th>\n      <td>4.1151</td>\n      <td>1.931012</td>\n      <td>True</td>\n      <td>113.105885</td>\n    </tr>\n    <tr>\n      <th>ENPH</th>\n      <td>5.5369</td>\n      <td>2.618323</td>\n      <td>True</td>\n      <td>111.467441</td>\n    </tr>\n    <tr>\n      <th>PDD</th>\n      <td>15.6281</td>\n      <td>7.677513</td>\n      <td>True</td>\n      <td>103.556813</td>\n    </tr>\n    <tr>\n      <th>CRWD</th>\n      <td>8.8474</td>\n      <td>4.574420</td>\n      <td>True</td>\n      <td>93.410333</td>\n    </tr>\n    <tr>\n      <th>META</th>\n      <td>39.8751</td>\n      <td>21.738425</td>\n      <td>True</td>\n      <td>83.431417</td>\n    </tr>\n    <tr>\n      <th>MTCH</th>\n      <td>3.0845</td>\n      <td>2.069355</td>\n      <td>True</td>\n      <td>49.056107</td>\n    </tr>\n    <tr>\n      <th>COST</th>\n      <td>3.6297</td>\n      <td>2.493945</td>\n      <td>True</td>\n      <td>45.540493</td>\n    </tr>\n    <tr>\n      <th>NFLX</th>\n      <td>12.6835</td>\n      <td>9.255618</td>\n      <td>True</td>\n      <td>37.035687</td>\n    </tr>\n    <tr>\n      <th>DDOG</th>\n      <td>5.1451</td>\n      <td>3.765698</td>\n      <td>True</td>\n      <td>36.630705</td>\n    </tr>\n    <tr>\n      <th>WDAY</th>\n      <td>2.5529</td>\n      <td>1.887680</td>\n      <td>True</td>\n      <td>35.240090</td>\n    </tr>\n    <tr>\n      <th>LCID</th>\n      <td>27.4115</td>\n      <td>21.481698</td>\n      <td>True</td>\n      <td>27.603973</td>\n    </tr>\n    <tr>\n      <th>INTU</th>\n      <td>1.8760</td>\n      <td>1.478064</td>\n      <td>True</td>\n      <td>26.922820</td>\n    </tr>\n    <tr>\n      <th>AEP</th>\n      <td>3.4920</td>\n      <td>2.760928</td>\n      <td>True</td>\n      <td>26.479236</td>\n    </tr>\n    <tr>\n      <th>CMCSA</th>\n      <td>25.8090</td>\n      <td>20.820136</td>\n      <td>True</td>\n      <td>23.961729</td>\n    </tr>\n    <tr>\n      <th>INTC</th>\n      <td>31.5339</td>\n      <td>26.433190</td>\n      <td>True</td>\n      <td>19.296609</td>\n    </tr>\n    <tr>\n      <th>AMD</th>\n      <td>64.3252</td>\n      <td>57.265202</td>\n      <td>True</td>\n      <td>12.328601</td>\n    </tr>\n    <tr>\n      <th>ADI</th>\n      <td>3.0552</td>\n      <td>2.776239</td>\n      <td>True</td>\n      <td>10.048158</td>\n    </tr>\n    <tr>\n      <th>SNPS</th>\n      <td>1.0763</td>\n      <td>1.011265</td>\n      <td>True</td>\n      <td>6.431002</td>\n    </tr>\n    <tr>\n      <th>PCAR</th>\n      <td>2.0403</td>\n      <td>2.031195</td>\n      <td>True</td>\n      <td>0.448243</td>\n    </tr>\n  </tbody>\n</table>\n</div>"
     },
     "execution_count": 138,
     "metadata": {},
     "output_type": "execute_result"
    }
   ],
   "source": [
    "df_tm1 = df_vol.iloc[[-1]].max().sort_values(ascending=False)\n",
    "df_tmp2 = df_vol[:-365].mean()\n",
    "df_tmp = pd.concat([df_tm1,df_tmp2],axis=1)\n",
    "df_tmp.rename(columns={0: \"lastvolume\", 1: \"meanvolume\"}, inplace=True)\n",
    "df_tmp = df_tmp[['lastvolume','meanvolume']].round(1)/1000000\n",
    "df_tmp['greater'] =  df_tmp['lastvolume'] > df_tmp['meanvolume']\n",
    "df_tmp['pct'] = (df_tmp['lastvolume'] - df_tmp['meanvolume']) / df_tmp['meanvolume'] *100\n",
    "df_tmp = df_tmp[df_tmp['greater'] == True]\n",
    "df_tmp.sort_values(by=['pct'], ascending=False)"
   ],
   "metadata": {
    "collapsed": false
   }
  },
  {
   "cell_type": "code",
   "execution_count": 139,
   "outputs": [
    {
     "ename": "SyntaxError",
     "evalue": "invalid syntax (415682724.py, line 1)",
     "output_type": "error",
     "traceback": [
      "\u001B[0;36m  Cell \u001B[0;32mIn[139], line 1\u001B[0;36m\u001B[0m\n\u001B[0;31m    https://tradingstrategyguides.com/volume-trading-strategy/\u001B[0m\n\u001B[0m          ^\u001B[0m\n\u001B[0;31mSyntaxError\u001B[0m\u001B[0;31m:\u001B[0m invalid syntax\n"
     ]
    }
   ],
   "source": [
    "https://tradingstrategyguides.com/volume-trading-strategy/"
   ],
   "metadata": {
    "collapsed": false
   }
  },
  {
   "cell_type": "markdown",
   "source": [],
   "metadata": {
    "collapsed": false
   }
  },
  {
   "cell_type": "code",
   "execution_count": null,
   "outputs": [],
   "source": [
    "https://tradingstrategyguides.com/wp-content/uploads/2018/07/Volume-Momentum.png"
   ],
   "metadata": {
    "collapsed": false
   }
  },
  {
   "cell_type": "code",
   "execution_count": null,
   "outputs": [],
   "source": [],
   "metadata": {
    "collapsed": false
   }
  },
  {
   "cell_type": "code",
   "execution_count": null,
   "outputs": [],
   "source": [],
   "metadata": {
    "collapsed": false
   }
  },
  {
   "cell_type": "markdown",
   "source": [
    "# Ticker download for some further infos\n"
   ],
   "metadata": {
    "collapsed": false
   }
  },
  {
   "cell_type": "code",
   "execution_count": 66,
   "outputs": [],
   "source": [
    "ticker = yf.Tickers('msft aapl goog')"
   ],
   "metadata": {
    "collapsed": false
   }
  },
  {
   "cell_type": "code",
   "execution_count": 73,
   "outputs": [
    {
     "data": {
      "text/plain": "dict"
     },
     "execution_count": 73,
     "metadata": {},
     "output_type": "execute_result"
    }
   ],
   "source": [
    "type(ticker.tickers)"
   ],
   "metadata": {
    "collapsed": false
   }
  },
  {
   "cell_type": "code",
   "execution_count": 75,
   "outputs": [
    {
     "data": {
      "text/plain": "yfinance.Ticker object <MSFT>"
     },
     "execution_count": 75,
     "metadata": {},
     "output_type": "execute_result"
    }
   ],
   "source": [
    "ticker.tickers[\"MSFT\"]"
   ],
   "metadata": {
    "collapsed": false
   }
  },
  {
   "cell_type": "code",
   "execution_count": null,
   "outputs": [],
   "source": [],
   "metadata": {
    "collapsed": false
   }
  }
 ],
 "metadata": {
  "kernelspec": {
   "display_name": "Python 3",
   "language": "python",
   "name": "python3"
  },
  "language_info": {
   "codemirror_mode": {
    "name": "ipython",
    "version": 2
   },
   "file_extension": ".py",
   "mimetype": "text/x-python",
   "name": "python",
   "nbconvert_exporter": "python",
   "pygments_lexer": "ipython2",
   "version": "2.7.6"
  }
 },
 "nbformat": 4,
 "nbformat_minor": 0
}
